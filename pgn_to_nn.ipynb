{
  "nbformat": 4,
  "nbformat_minor": 0,
  "metadata": {
    "colab": {
      "provenance": [],
      "authorship_tag": "ABX9TyPM6XrRg3eVFGhyCtDTld4V",
      "include_colab_link": true
    },
    "kernelspec": {
      "name": "python3",
      "display_name": "Python 3"
    },
    "language_info": {
      "name": "python"
    }
  },
  "cells": [
    {
      "cell_type": "markdown",
      "metadata": {
        "id": "view-in-github",
        "colab_type": "text"
      },
      "source": [
        "<a href=\"https://colab.research.google.com/github/graham-fletcher-athome/chs/blob/main/pgn_to_nn.ipynb\" target=\"_parent\"><img src=\"https://colab.research.google.com/assets/colab-badge.svg\" alt=\"Open In Colab\"/></a>"
      ]
    },
    {
      "cell_type": "code",
      "source": [
        "!pip3 install python-chess\n",
        "from google.colab import drive\n",
        "drive.mount('/content/drive')\n"
      ],
      "metadata": {
        "colab": {
          "base_uri": "https://localhost:8080/"
        },
        "id": "5v7_ojKRPfCY",
        "outputId": "37606efb-303c-4375-830f-c76ce79dcd39"
      },
      "execution_count": null,
      "outputs": [
        {
          "output_type": "stream",
          "name": "stdout",
          "text": [
            "Collecting python-chess\n",
            "  Downloading python_chess-1.999-py3-none-any.whl.metadata (776 bytes)\n",
            "Collecting chess<2,>=1 (from python-chess)\n",
            "  Downloading chess-1.11.1.tar.gz (156 kB)\n",
            "\u001b[2K     \u001b[90m━━━━━━━━━━━━━━━━━━━━━━━━━━━━━━━━━━━━━━━━\u001b[0m \u001b[32m156.5/156.5 kB\u001b[0m \u001b[31m2.1 MB/s\u001b[0m eta \u001b[36m0:00:00\u001b[0m\n",
            "\u001b[?25h  Preparing metadata (setup.py) ... \u001b[?25l\u001b[?25hdone\n",
            "Downloading python_chess-1.999-py3-none-any.whl (1.4 kB)\n",
            "Building wheels for collected packages: chess\n",
            "  Building wheel for chess (setup.py) ... \u001b[?25l\u001b[?25hdone\n",
            "  Created wheel for chess: filename=chess-1.11.1-py3-none-any.whl size=148499 sha256=3eceb8368c85f2efbe851feb31932f6750152917151c44cd95c222a08c69d639\n",
            "  Stored in directory: /root/.cache/pip/wheels/2e/2d/23/1bfc95db984ed3ecbf6764167dc7526d0ab521cf9a9852544e\n",
            "Successfully built chess\n",
            "Installing collected packages: chess, python-chess\n",
            "Successfully installed chess-1.11.1 python-chess-1.999\n",
            "Mounted at /content/drive\n"
          ]
        }
      ]
    },
    {
      "cell_type": "code",
      "source": [
        "!cp -r /content/drive/MyDrive/chs/* ."
      ],
      "metadata": {
        "id": "L0nxO7l75lL4"
      },
      "execution_count": null,
      "outputs": []
    },
    {
      "cell_type": "markdown",
      "source": [],
      "metadata": {
        "id": "odA5aTKG3j-4"
      }
    },
    {
      "cell_type": "code",
      "execution_count": null,
      "metadata": {
        "id": "FpL5HtzEPctO",
        "collapsed": true
      },
      "outputs": [],
      "source": [
        "# prompt: convert fen to nn inputs like lc0 does. Add input planes for castling rights to king and queen side. Dont add a plane for side to move, invert the board before calculating the planes if it is black to move. Include a plane for en passent. Use a plane size of 10x10 with the 8x8 board in the middle. Add an extra plane that defines the position of the board\n",
        "\n",
        "import chess\n",
        "import numpy as np\n",
        "\n",
        "def fen_to_nn_input(fen):\n",
        "    \"\"\"Converts a FEN string to NN input like LC0 does.\n",
        "\n",
        "    Args:\n",
        "        fen: The FEN string to convert.\n",
        "\n",
        "    Returns:\n",
        "        A NumPy array representing the NN input.\n",
        "    \"\"\"\n",
        "\n",
        "    board = chess.Board(fen)\n",
        "    planes = np.zeros((18, 10, 10), dtype=np.float32)\n",
        "\n",
        "    # Invert the board if it's black to move\n",
        "    if board.turn == chess.BLACK:\n",
        "        board = board.mirror()\n",
        "\n",
        "    piece_map = {\n",
        "        chess.PAWN: 0,\n",
        "        chess.KNIGHT: 1,\n",
        "        chess.BISHOP: 2,\n",
        "        chess.ROOK: 3,\n",
        "        chess.QUEEN: 4,\n",
        "        chess.KING: 5,\n",
        "    }\n",
        "\n",
        "    for square in chess.SQUARES:\n",
        "        piece = board.piece_at(square)\n",
        "        if piece:\n",
        "            color = int(piece.color)\n",
        "            piece_type = piece_map[piece.piece_type]\n",
        "            row, col = divmod(square, 8)\n",
        "            planes[color * 6 + piece_type, row + 1, col + 1] = 1\n",
        "\n",
        "    # Castling rights\n",
        "    if board.has_kingside_castling_rights(chess.WHITE):\n",
        "        planes[12, :, :] = 1\n",
        "    if board.has_queenside_castling_rights(chess.WHITE):\n",
        "        planes[13, :, :] = 1\n",
        "    if board.has_kingside_castling_rights(chess.BLACK):\n",
        "        planes[14, :, :] = 1\n",
        "    if board.has_queenside_castling_rights(chess.BLACK):\n",
        "        planes[15, :, :] = 1\n",
        "\n",
        "\n",
        "    # En Passant\n",
        "    if board.ep_square is not None:\n",
        "        row, col = divmod(board.ep_square, 8)\n",
        "        planes[16, row + 1, col + 1] = 1\n",
        "\n",
        "    # Board Position Plane\n",
        "    for row in range(8):\n",
        "        for col in range(8):\n",
        "          planes[17, row + 1, col + 1] = 1\n",
        "    return planes\n",
        "\n",
        "# Example usage\n",
        "fen = \"rnbqkbnr/pppppppp/8/8/8/8/PPPPPPPP/RNBQKBNR w KQkq - 0 1\"\n",
        "nn_input = fen_to_nn_input(fen)\n"
      ]
    },
    {
      "cell_type": "code",
      "source": [
        "def pov(x):\n",
        "  if x == 1:\n",
        "    return -1\n",
        "  return 1"
      ],
      "metadata": {
        "id": "adpYoL622Hg6"
      },
      "execution_count": null,
      "outputs": []
    },
    {
      "cell_type": "code",
      "source": [
        "from os import POSIX_FADV_WILLNEED\n",
        "# prompt: Generate a dataset for training a NN. The inputs vector is \"For all positions in all games in all the pgn files call fen_to_nn_input\". The output vector is the evaluation for the position from the pgn.  Only write the first 100 lines\n",
        "\n",
        "import chess.pgn\n",
        "import io\n",
        "\n",
        "def generate_dataset(pgn_files):\n",
        "    \"\"\"Generates a dataset for training a NN.\n",
        "\n",
        "    Args:\n",
        "        pgn_files: List of PGN file paths.\n",
        "\n",
        "    Returns:\n",
        "        A tuple of NumPy arrays: (inputs, outputs) where inputs are\n",
        "        NN inputs and outputs are the evaluation of the position.\n",
        "    \"\"\"\n",
        "    inputs = []\n",
        "    outputs = []\n",
        "    for pgn_file in pgn_files:\n",
        "        with open(pgn_file, 'r') as f:\n",
        "            while True:\n",
        "                game = chess.pgn.read_game(f)\n",
        "                if game is None:\n",
        "                    break\n",
        "                board = game.board()\n",
        "                p_win = 0.52\n",
        "                for m in game.mainline():\n",
        "                    inputs.append(fen_to_nn_input(board.fen()).flatten())\n",
        "                    outputs.append(p_win)\n",
        "\n",
        "                    board.push(m.move)\n",
        "                    if m.eval() is not None:\n",
        "                      p_win = m.eval().wdl().relative.expectation()\n",
        "                    else:\n",
        "                      p_win = 1-p_win\n",
        "\n",
        "\n",
        "\n",
        "\n",
        "\n",
        "    return np.array(inputs), np.array(outputs)\n",
        "\n",
        "\n",
        "# Get a list of all pgn files in a directory\n",
        "import glob\n",
        "pgn_files = glob.glob(\"*.pgn\")\n",
        "\n",
        "\n",
        "# Generate dataset\n",
        "inputs, outputs = generate_dataset(pgn_files)\n",
        "np.savetxt(\"inputs.csv\", inputs, delimiter=\",\")\n",
        "np.savetxt(\"outputs.csv\", outputs, delimiter=\",\")\n"
      ],
      "metadata": {
        "id": "3MHIZ5Vqxv3X"
      },
      "execution_count": 39,
      "outputs": []
    }
  ]
}